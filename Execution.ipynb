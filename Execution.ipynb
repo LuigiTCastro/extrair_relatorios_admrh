{
 "cells": [
  {
   "cell_type": "code",
   "execution_count": 1,
   "metadata": {},
   "outputs": [
    {
     "name": "stdout",
     "output_type": "stream",
     "text": [
      "ConsultaFuncionarios_TJCE_4882655.xlsx\n",
      "C:/Users/luigi/Downloads/ConsultaFuncionarios_TJCE_4882655.xlsx\n"
     ]
    },
    {
     "name": "stderr",
     "output_type": "stream",
     "text": [
      "c:\\Users\\luigi\\anaconda3\\lib\\site-packages\\openpyxl\\styles\\stylesheet.py:226: UserWarning: Workbook contains no default style, apply openpyxl's default\n",
      "  warn(\"Workbook contains no default style, apply openpyxl's default\")\n",
      "c:\\Users\\luigi\\anaconda3\\lib\\site-packages\\openpyxl\\styles\\stylesheet.py:226: UserWarning: Workbook contains no default style, apply openpyxl's default\n",
      "  warn(\"Workbook contains no default style, apply openpyxl's default\")\n"
     ]
    }
   ],
   "source": [
    "import Dependencies as dp\n",
    "\n",
    "try:\n",
    "    try:\n",
    "        dp.show_box()\n",
    "    except Exception as error:\n",
    "        try:\n",
    "            driver = dp.create_driver\n",
    "            error_msg = dp.WebDriverWait(driver, 10).until(dp.EC.element_to_be_clickable((dp.By.XPATH, \"//div[@class='error-page-container']\")))\n",
    "            if error_msg:\n",
    "                # initial_page = dp.WebDriverWait(driver, 10).until(dp.EC.element_to_be_clickable((dp.By.ID, 'form:btn_voltar_inicio')))\n",
    "                # initial_page.click()\n",
    "                driver.quit()\n",
    "                dp.show_box()\n",
    "            else:\n",
    "                dp.pya.alert('Tratamento da exceção não funcionou.')\n",
    "                dp.pya.alert('Encerrar aplicação.')\n",
    "        except Exception as error:\n",
    "            dp.pya.alert(f'Erro ao tentar executar aplicação: {error}.')\n",
    "except Exception as error:\n",
    "    dp.pya.alert(f'Erro ao tentar executar aplicação: {error}.')\n",
    "    "
   ]
  }
 ],
 "metadata": {
  "kernelspec": {
   "display_name": "base",
   "language": "python",
   "name": "python3"
  },
  "language_info": {
   "codemirror_mode": {
    "name": "ipython",
    "version": 3
   },
   "file_extension": ".py",
   "mimetype": "text/x-python",
   "name": "python",
   "nbconvert_exporter": "python",
   "pygments_lexer": "ipython3",
   "version": "3.9.12"
  }
 },
 "nbformat": 4,
 "nbformat_minor": 2
}
